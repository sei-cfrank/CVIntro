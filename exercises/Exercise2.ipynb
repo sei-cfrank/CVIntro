{
 "cells": [
  {
   "cell_type": "markdown",
   "metadata": {},
   "source": [
    "# Exercise 2: Image Capture Using the RPi Camera Module"
   ]
  },
  {
   "cell_type": "markdown",
   "metadata": {},
   "source": [
    "## General Setup"
   ]
  },
  {
   "cell_type": "code",
   "execution_count": 2,
   "metadata": {},
   "outputs": [
    {
     "ename": "ModuleNotFoundError",
     "evalue": "No module named 'picamera2'",
     "output_type": "error",
     "traceback": [
      "\u001b[0;31m---------------------------------------------------------------------------\u001b[0m",
      "\u001b[0;31mModuleNotFoundError\u001b[0m                       Traceback (most recent call last)",
      "Cell \u001b[0;32mIn[2], line 3\u001b[0m\n\u001b[1;32m      1\u001b[0m \u001b[38;5;66;03m# Important that this code block is only run once!\u001b[39;00m\n\u001b[1;32m      2\u001b[0m \u001b[38;5;66;03m# Otherwise will need to restart kernel\u001b[39;00m\n\u001b[0;32m----> 3\u001b[0m \u001b[38;5;28;01mfrom\u001b[39;00m \u001b[38;5;21;01mpicamera2\u001b[39;00m \u001b[38;5;28;01mimport\u001b[39;00m Picamera2\n\u001b[1;32m      4\u001b[0m \u001b[38;5;28;01mimport\u001b[39;00m \u001b[38;5;21;01mtimeit\u001b[39;00m\n\u001b[1;32m      5\u001b[0m \u001b[38;5;28;01mimport\u001b[39;00m \u001b[38;5;21;01mcv2\u001b[39;00m\n",
      "\u001b[0;31mModuleNotFoundError\u001b[0m: No module named 'picamera2'"
     ]
    }
   ],
   "source": [
    "# Important that this code block is only run once!\n",
    "# Otherwise will need to restart kernel\n",
    "from picamera2 import Picamera2\n",
    "import timeit\n",
    "import cv2\n",
    "\n",
    "# instantiate camera instance\n",
    "picam2 = Picamera2()"
   ]
  },
  {
   "cell_type": "markdown",
   "metadata": {},
   "source": [
    "### Exercise 2: "
   ]
  },
  {
   "cell_type": "code",
   "execution_count": 7,
   "metadata": {},
   "outputs": [
    {
     "name": "stderr",
     "output_type": "stream",
     "text": [
      "[0:13:05.947717925] [3210] \u001b[1;32m INFO \u001b[1;37mCamera \u001b[1;34mcamera.cpp:1183 \u001b[0mconfiguring streams: (0) 1536x864-XRGB8888 (1) 1536x864-BGGR16_PISP_COMP1\n",
      "[0:13:05.953013906] [3135] \u001b[1;32m INFO \u001b[1;37mRPI \u001b[1;34mpisp.cpp:1405 \u001b[0mSensor: /base/axi/pcie@120000/rp1/i2c@80000/imx708@1a - Selected sensor format: 1536x864-SBGGR10_1X10 - Selected CFE format: 1536x864-PC1B\n"
     ]
    }
   ],
   "source": [
    "# create a config with desired attributes: format, size, framerate\n",
    "# NOTE: camera resolution 4608x2464, downsamples at 2304x1296 (56.03 fps)\n",
    "# NOTE: XRGB8888 => shape: (height, width, 4); pixel value: [B, G, R, A]\n",
    "config = picam2.create_preview_configuration(\n",
    "    main={'format': 'XRGB8888', 'size': (2304, 1296)})  # 16:9 aspect ratio\n",
    "\n",
    "# set camera configuration, start camera\n",
    "picam2.configure(config)\n",
    "picam2.start()\n",
    "\n",
    "# start opencv window thread\n",
    "cv2.startWindowThread()\n",
    "wnd_name = 'foo'\n",
    "cv2.namedWindow(wnd_name, cv2.WINDOW_KEEPRATIO)\n",
    "cv2.resizeWindow(wnd_name, 640, 480)                    # 4:3 aspect ratio\n",
    "\n",
    "while True:\n",
    "    # get current image data from 'main' camera stream\n",
    "    arr1 = picam2.capture_array('main')\n",
    "\n",
    "    # resize the image data using bi-linear interpolation\n",
    "    arr2 = cv2.resize(arr1, (640, 480), 0, 0, cv2.INTER_LINEAR)\n",
    "\n",
    "    # if window closed, break loop before imshow creates new window\n",
    "    # if cv2.getWindowProperty(wnd_name, cv2.WND_PROP_AUTOSIZE) == -1:\n",
    "    #     break\n",
    "\n",
    "    # show resized image\n",
    "    cv2.imshow(wnd_name, arr2)\n",
    "    key = cv2.waitKey(1)\n",
    "\n",
    "    if key == ord(\"q\")\n",
    "\n",
    "# stop camera\n",
    "cv2.destroyWindow(wnd_name)\n",
    "picam2.stop()\n"
   ]
  }
 ],
 "metadata": {
  "kernelspec": {
   "display_name": "Python 3 (ipykernel)",
   "language": "python",
   "name": "python3"
  },
  "language_info": {
   "codemirror_mode": {
    "name": "ipython",
    "version": 3
   },
   "file_extension": ".py",
   "mimetype": "text/x-python",
   "name": "python",
   "nbconvert_exporter": "python",
   "pygments_lexer": "ipython3",
   "version": "3.11.5"
  }
 },
 "nbformat": 4,
 "nbformat_minor": 4
}
