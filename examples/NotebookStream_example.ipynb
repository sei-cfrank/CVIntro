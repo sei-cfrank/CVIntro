{
 "cells": [
  {
   "cell_type": "markdown",
   "metadata": {},
   "source": [
    "# Notebook Camera Stream Example"
   ]
  },
  {
   "cell_type": "markdown",
   "metadata": {},
   "source": [
    "### Example 2"
   ]
  },
  {
   "cell_type": "code",
   "execution_count": 1,
   "metadata": {},
   "outputs": [
    {
     "name": "stderr",
     "output_type": "stream",
     "text": [
      "[0:08:20.425617362] [2987] \u001b[1;32m INFO \u001b[1;37mCamera \u001b[1;34mcamera_manager.cpp:284 \u001b[0mlibcamera v0.2.0+46-075b54d5\n",
      "[0:08:20.433768026] [3132] \u001b[1;32m INFO \u001b[1;37mRPI \u001b[1;34mpisp.cpp:662 \u001b[0mlibpisp version v1.0.4 6e3a53d137f4 14-02-2024 (14:00:12)\n",
      "[0:08:20.443499374] [3132] \u001b[1;32m INFO \u001b[1;37mRPI \u001b[1;34mpisp.cpp:1121 \u001b[0mRegistered camera /base/axi/pcie@120000/rp1/i2c@80000/imx708@1a to CFE device /dev/media2 and ISP device /dev/media0 using PiSP variant BCM2712_C0\n",
      "[0:08:20.445483558] [2987] \u001b[1;32m INFO \u001b[1;37mCamera \u001b[1;34mcamera_manager.cpp:284 \u001b[0mlibcamera v0.2.0+46-075b54d5\n",
      "[0:08:20.453495315] [3135] \u001b[1;32m INFO \u001b[1;37mRPI \u001b[1;34mpisp.cpp:662 \u001b[0mlibpisp version v1.0.4 6e3a53d137f4 14-02-2024 (14:00:12)\n",
      "[0:08:20.463523570] [3135] \u001b[1;32m INFO \u001b[1;37mRPI \u001b[1;34mpisp.cpp:1121 \u001b[0mRegistered camera /base/axi/pcie@120000/rp1/i2c@80000/imx708@1a to CFE device /dev/media2 and ISP device /dev/media0 using PiSP variant BCM2712_C0\n"
     ]
    }
   ],
   "source": [
    "# Important that this code block is only run once!\n",
    "# Otherwise will need to restart kernel\n",
    "from picamera2 import Picamera2\n",
    "import timeit\n",
    "import cv2\n",
    "\n",
    "# instantiate camera instance\n",
    "picam2 = Picamera2()"
   ]
  },
  {
   "cell_type": "code",
   "execution_count": 7,
   "metadata": {},
   "outputs": [
    {
     "name": "stderr",
     "output_type": "stream",
     "text": [
      "[0:13:05.947717925] [3210] \u001b[1;32m INFO \u001b[1;37mCamera \u001b[1;34mcamera.cpp:1183 \u001b[0mconfiguring streams: (0) 1536x864-XRGB8888 (1) 1536x864-BGGR16_PISP_COMP1\n",
      "[0:13:05.953013906] [3135] \u001b[1;32m INFO \u001b[1;37mRPI \u001b[1;34mpisp.cpp:1405 \u001b[0mSensor: /base/axi/pcie@120000/rp1/i2c@80000/imx708@1a - Selected sensor format: 1536x864-SBGGR10_1X10 - Selected CFE format: 1536x864-PC1B\n"
     ]
    }
   ],
   "source": [
    "# create a config with desired attributes: format, size, framerate\n",
    "# NOTE: camera resolution 4608x2464, downsamples at 1536x864 (120.13 fps)\n",
    "# NOTE: XRGB8888 => shape: (height, width, 4); pixel value: [B, G, R, A]\n",
    "config = picam2.create_preview_configuration(\n",
    "    main={'format': 'XRGB8888', 'size': (1536, 864)},\n",
    "    controls={'FrameDurationLimits': (8333, 8333)})\n",
    "\n",
    "# set camera configuration, start camera\n",
    "picam2.configure(config)\n",
    "picam2.start()\n",
    "\n",
    "# start opencv window thread\n",
    "cv2.startWindowThread()\n",
    "wnd_name = 'foo'\n",
    "cv2.namedWindow(wnd_name, cv2.WINDOW_AUTOSIZE)\n",
    "\n",
    "#t0 = timeit.default_timer()\n",
    "#t1 = timeit.default_timer()\n",
    "#dur = 5\n",
    "\n",
    "while True:\n",
    "    # get current image data from 'main' camera stream\n",
    "    arr1 = picam2.capture_array('main')\n",
    "    \n",
    "    # resize the image data using bi-linear interpolation\n",
    "    arr2 = cv2.resize(arr1, (640, 480), 0, 0, cv2.INTER_LINEAR)\n",
    "    \n",
    "    # show resized image\n",
    "    cv2.imshow(wnd_name, arr2)\n",
    "    key = cv2.waitKey(1) & 0xFF\n",
    "    #t1 = timeit.default_timer()\n",
    "\n",
    "    # breaks out of loop on key stroke 'q'\n",
    "    if key == ord(\"q\"):\n",
    "        break\n",
    "\n",
    "cv2.destroyWindow(wnd_name)\n",
    "picam2.stop()\n"
   ]
  },
  {
   "cell_type": "code",
   "execution_count": 4,
   "metadata": {},
   "outputs": [
    {
     "name": "stdout",
     "output_type": "stream",
     "text": [
      "Picamera2\t arr1\t arr2\t config\t cv2\t key\t picam2\t timeit\t wnd_name\t \n",
      "\n"
     ]
    }
   ],
   "source": [
    "%who"
   ]
  }
 ],
 "metadata": {
  "kernelspec": {
   "display_name": "venv",
   "language": "python",
   "name": "venv"
  },
  "language_info": {
   "codemirror_mode": {
    "name": "ipython",
    "version": 3
   },
   "file_extension": ".py",
   "mimetype": "text/x-python",
   "name": "python",
   "nbconvert_exporter": "python",
   "pygments_lexer": "ipython3",
   "version": "3.11.2"
  }
 },
 "nbformat": 4,
 "nbformat_minor": 4
}
